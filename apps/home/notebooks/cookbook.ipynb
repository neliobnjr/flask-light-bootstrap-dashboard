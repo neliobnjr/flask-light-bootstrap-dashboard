{
 "cells": [
  {
   "cell_type": "code",
   "execution_count": 83,
   "metadata": {},
   "outputs": [],
   "source": [
    "import requests"
   ]
  },
  {
   "cell_type": "code",
   "execution_count": 84,
   "metadata": {},
   "outputs": [],
   "source": [
    "def getParams():\n",
    "    headers = {\"api-key\":\"f54a7b5a-8851-409d-b941-71a9d11ce217\"}\n",
    "    r = requests.get(\"http://efcentralnetwork.xyz/unithealthcheck\",headers=headers)\n",
    "    data1 = r.json()\n",
    "    return data1"
   ]
  },
  {
   "cell_type": "code",
   "execution_count": 85,
   "metadata": {},
   "outputs": [],
   "source": [
    "def getUnits():\n",
    "    headers = {\"api-key\":\"f54a7b5a-8851-409d-b941-71a9d11ce217\"}\n",
    "    r = requests.get(\"http://efcentralnetwork.xyz/getunits\",headers=headers)\n",
    "    data = r.json()\n",
    "    return data"
   ]
  },
  {
   "cell_type": "code",
   "execution_count": 86,
   "metadata": {},
   "outputs": [],
   "source": [
    "params = getParams()\n",
    "units = getUnits()\n",
    "units = units['liveunits']\n",
    "markers = []\n",
    "if \"coordinates\" not in params:\n",
    "    params['coordinates']= {\"lat\":37.4530626,\n",
    "        \"lng\": -122.0776532}\n",
    "else:\n",
    "    coordinates = params['coordinates']\n",
    "    coordinates = coordinates.split('\\n')\n",
    "    coordinates = coordinates[3].split(' ')\n",
    "    coordinates[1] = coordinates[1].replace(\"\\r\",\"\")\n",
    "    params['coordinates'] = coordinates\n",
    "if \"SOC\" not in params['batteries']:\n",
    "    params['batteries']['SOC'] = 0\n",
    "else:\n",
    "    pass"
   ]
  },
  {
   "cell_type": "code",
   "execution_count": 87,
   "metadata": {},
   "outputs": [],
   "source": [
    "for i in units:\n",
    "    base = '''\n",
    "        var myLatlng'''+i+''' = {\n",
    "        lat:'''+ str(params['coordinates']['lat'])+''',\n",
    "        lng:'''+ str(params['coordinates']['lng'])+'''\n",
    "    };\n",
    "        var marker'''+i+''' = new google.maps.Marker({\n",
    "        position: myLatlng'''+i+''',\n",
    "        map,\n",
    "        title:\"'''+i+'''\",\n",
    "        icon: mapicon,\n",
    "    });\n",
    "    marker'''+i+'''.addListener(\"click\",()=>{\n",
    "        document.getElementById(\"unitName\").innerHTML=marker'''+i+'''.title;\n",
    "        document.getElementById(\"SOC\").innerHTML=\"<p>Battery SOC</p>\"+parseFloat('''+str(params['batteries']['SOC'])+''').toFixed(2)+\"%\";\n",
    "        document.getElementById(\"IVTS\").innerHTML=\"<p>Battery Voltage</p>\"+'''+str(params['IVTS']['batteryVoltage'])+'''+\"V\";\n",
    "        document.getElementById(\"COORD\").innerHTML=\"<p>Unit coordinates</p>\"+marker'''+i+'''.getPosition();\n",
    "        map.panTo(marker'''+i+'''.getPosition());\n",
    "        map.setZoom(11);\n",
    "        openNav();\n",
    "\n",
    "    });'''\n",
    "    markers.append(base)\n",
    "for i in range(len(markers)):\n",
    "    markers[i]=markers[i].replace('\\n',\"\")\n",
    "    \n",
    "    "
   ]
  },
  {
   "cell_type": "code",
   "execution_count": 88,
   "metadata": {},
   "outputs": [
    {
     "data": {
      "text/plain": [
       "['        var myLatlngEFHQ01 = {        lat:37.4530626,        lng:-122.0776532    };        var markerEFHQ01 = new google.maps.Marker({        position: myLatlngEFHQ01,        map,        title:\"EFHQ01\",        icon: mapicon,    });    markerEFHQ01.addListener(\"click\",()=>{        document.getElementById(\"unitName\").innerHTML=markerEFHQ01.title;        document.getElementById(\"SOC\").innerHTML=\"<p>Battery SOC</p>\"+parseFloat(0).toFixed(2)+\"%\";        document.getElementById(\"IVTS\").innerHTML=\"<p>Battery Voltage</p>\"+0+\"V\";        document.getElementById(\"COORD\").innerHTML=\"<p>Unit coordinates</p>\"+markerEFHQ01.getPosition();        map.panTo(markerEFHQ01.getPosition());        map.setZoom(11);        openNav();    });',\n",
       " '        var myLatlngEFFRE01 = {        lat:37.4530626,        lng:-122.0776532    };        var markerEFFRE01 = new google.maps.Marker({        position: myLatlngEFFRE01,        map,        title:\"EFFRE01\",        icon: mapicon,    });    markerEFFRE01.addListener(\"click\",()=>{        document.getElementById(\"unitName\").innerHTML=markerEFFRE01.title;        document.getElementById(\"SOC\").innerHTML=\"<p>Battery SOC</p>\"+parseFloat(0).toFixed(2)+\"%\";        document.getElementById(\"IVTS\").innerHTML=\"<p>Battery Voltage</p>\"+0+\"V\";        document.getElementById(\"COORD\").innerHTML=\"<p>Unit coordinates</p>\"+markerEFFRE01.getPosition();        map.panTo(markerEFFRE01.getPosition());        map.setZoom(11);        openNav();    });',\n",
       " '        var myLatlngEFPA01 = {        lat:37.4530626,        lng:-122.0776532    };        var markerEFPA01 = new google.maps.Marker({        position: myLatlngEFPA01,        map,        title:\"EFPA01\",        icon: mapicon,    });    markerEFPA01.addListener(\"click\",()=>{        document.getElementById(\"unitName\").innerHTML=markerEFPA01.title;        document.getElementById(\"SOC\").innerHTML=\"<p>Battery SOC</p>\"+parseFloat(0).toFixed(2)+\"%\";        document.getElementById(\"IVTS\").innerHTML=\"<p>Battery Voltage</p>\"+0+\"V\";        document.getElementById(\"COORD\").innerHTML=\"<p>Unit coordinates</p>\"+markerEFPA01.getPosition();        map.panTo(markerEFPA01.getPosition());        map.setZoom(11);        openNav();    });']"
      ]
     },
     "execution_count": 88,
     "metadata": {},
     "output_type": "execute_result"
    }
   ],
   "source": [
    "markers"
   ]
  },
  {
   "cell_type": "code",
   "execution_count": 82,
   "metadata": {},
   "outputs": [
    {
     "ename": "ModuleNotFoundError",
     "evalue": "No module named 'apps'",
     "output_type": "error",
     "traceback": [
      "\u001b[0;31m---------------------------------------------------------------------------\u001b[0m",
      "\u001b[0;31mModuleNotFoundError\u001b[0m                       Traceback (most recent call last)",
      "\u001b[1;32m/Users/neliobatista/Documents/GitHub/flask-light-bootstrap-dashboard/apps/home/notebooks/cookbook.ipynb Célula: 7\u001b[0m in \u001b[0;36m<cell line: 1>\u001b[0;34m()\u001b[0m\n\u001b[0;32m----> <a href='vscode-notebook-cell:/Users/neliobatista/Documents/GitHub/flask-light-bootstrap-dashboard/apps/home/notebooks/cookbook.ipynb#ch0000009?line=0'>1</a>\u001b[0m \u001b[39mimport\u001b[39;00m \u001b[39mapps\u001b[39;00m\u001b[39m.\u001b[39;00m\u001b[39mmarker_gen\u001b[39;00m\n",
      "\u001b[0;31mModuleNotFoundError\u001b[0m: No module named 'apps'"
     ]
    }
   ],
   "source": [
    "import apps.marker_gen"
   ]
  },
  {
   "cell_type": "code",
   "execution_count": null,
   "metadata": {},
   "outputs": [],
   "source": []
  }
 ],
 "metadata": {
  "kernelspec": {
   "display_name": "Python 3.9.13 ('env': venv)",
   "language": "python",
   "name": "python3"
  },
  "language_info": {
   "codemirror_mode": {
    "name": "ipython",
    "version": 3
   },
   "file_extension": ".py",
   "mimetype": "text/x-python",
   "name": "python",
   "nbconvert_exporter": "python",
   "pygments_lexer": "ipython3",
   "version": "3.9.13"
  },
  "orig_nbformat": 4,
  "vscode": {
   "interpreter": {
    "hash": "ea7560987942d43ae33de82ee1baa8d903a10eabd79e05c85ccf0e83a4cc7d60"
   }
  }
 },
 "nbformat": 4,
 "nbformat_minor": 2
}
