{
 "cells": [
  {
   "cell_type": "markdown",
   "metadata": {},
   "source": [
    "<h4>ElectricFish Energy INC.</h4>"
   ]
  },
  {
   "cell_type": "markdown",
   "metadata": {},
   "source": [
    "<h1>Guide for requesting Unit heartbeat data and Nomotion data</h1>\n",
    "<h3>This notebook is still in development. But api endpoints and api keys are working fine.</h3>"
   ]
  },
  {
   "cell_type": "markdown",
   "metadata": {},
   "source": [
    "<p>Load the package requests to get up in speed to start requesting information from the reef backend api. Requesting historic information from the healthcheck database is being re-developed right now. Version 0.1 07/20/22</p>"
   ]
  },
  {
   "cell_type": "code",
   "execution_count": 34,
   "metadata": {},
   "outputs": [],
   "source": [
    "import requests"
   ]
  },
  {
   "cell_type": "markdown",
   "metadata": {},
   "source": [
    "<p>getNomotion() points to the endpoint to retrieve latest information from the Nomotion heartbeats database</p> "
   ]
  },
  {
   "cell_type": "code",
   "execution_count": 35,
   "metadata": {},
   "outputs": [],
   "source": [
    "def getNomotion():\n",
    "    headers = {\"api-key\":\"f54a7b5a-8851-409d-b941-71a9d11ce217\"}\n",
    "    r = requests.get(\"http://efcentralnetwork.xyz/unitdata\",headers=headers)\n",
    "    data1 = r.json()\n",
    "    return data1"
   ]
  },
  {
   "cell_type": "markdown",
   "metadata": {},
   "source": [
    "<p>getUnitData() points to the endpoint to get the latest info from the Unit general healthchecks</p>"
   ]
  },
  {
   "cell_type": "code",
   "execution_count": 27,
   "metadata": {},
   "outputs": [],
   "source": [
    "def getUnitData():\n",
    "    headers = {\"api-key\":\"f54a7b5a-8851-409d-b941-71a9d11ce217\"}\n",
    "    r = requests.get(\"http://efcentralnetwork.xyz/unithealthcheck\",headers=headers)\n",
    "    data1 = r.json()\n",
    "    return data1"
   ]
  },
  {
   "cell_type": "markdown",
   "metadata": {},
   "source": [
    "<p>getUnits() serves to retrieve live unit IDs and how many units are live.</p>"
   ]
  },
  {
   "cell_type": "code",
   "execution_count": 21,
   "metadata": {},
   "outputs": [],
   "source": [
    "def getUnitsIDs():\n",
    "    headers = {\"api-key\":\"f54a7b5a-8851-409d-b941-71a9d11ce217\"}\n",
    "    r = requests.get(\"http://efcentralnetwork.xyz/getunits\",headers=headers)\n",
    "    data = r.json()\n",
    "    return data"
   ]
  },
  {
   "cell_type": "code",
   "execution_count": 36,
   "metadata": {},
   "outputs": [
    {
     "name": "stdout",
     "output_type": "stream",
     "text": [
      "{'IVTS': {'batteryVoltage': 0, 'outputCurrent': 0, 'outputVoltage': 0}, 'UNICO': {'controlMode': None, 'currentLimits': [0, 9], 'currentSetup': None, 'faults': [], 'powerLimit': 100000, 'temperature': None, 'voltageLimits': [300, 900], 'voltageSetup': None}, 'batteries': {'SOC': 0, 'contactorsStatus': 0, 'faults': [], 'temperature': None}, 'bender': {'alarm': None, 'resistance': None}, 'externalContactor': 'open', 'msgId': 15, 'timestamp': '2022-07-20,11:38:21.31', 'vSECC': {'chargingState': '', 'contactorRequest': 'open', 'evConnectionState': 'disconnected', 'targetCurrent': 0, 'targetVoltage': 0, 'vehicleSOC': -1}}\n"
     ]
    },
    {
     "data": {
      "text/plain": [
       "{'liveunits': ['EFHQ01']}"
      ]
     },
     "execution_count": 36,
     "metadata": {},
     "output_type": "execute_result"
    }
   ],
   "source": [
    "a = getUnitData()\n",
    "print(a)\n",
    "getUnitsIDs()\n"
   ]
  },
  {
   "cell_type": "markdown",
   "metadata": {},
   "source": [
    "<h1>Map marker generator below.</h1>\n"
   ]
  },
  {
   "cell_type": "markdown",
   "metadata": {},
   "source": [
    "<p>The code below is a system constructor for javascript to help build the google maps API</p>"
   ]
  },
  {
   "cell_type": "code",
   "execution_count": 31,
   "metadata": {},
   "outputs": [],
   "source": [
    "params = getUnitData()\n",
    "units = getUnitsIDs()\n",
    "units = units['liveunits']\n",
    "markers = []\n",
    "try:\n",
    "    if \"coordinates\" not in params:\n",
    "        params['coordinates']= {\"lat\":37.4530626,\n",
    "            \"lng\": -122.0776532}\n",
    "    else:\n",
    "        coordinates = params['coordinates']\n",
    "        coordinates = coordinates.split('\\n')\n",
    "        coordinates = coordinates[3].split(' ')\n",
    "        coordinates[1] = coordinates[1].replace(\"\\r\",\"\")\n",
    "        params['coordinates'] = coordinates\n",
    "    if \"SOC\" not in params['batteries']:\n",
    "        params['batteries']['SOC'] = 0\n",
    "    else:\n",
    "        pass\n",
    "except:\n",
    "    print(params, units)"
   ]
  },
  {
   "cell_type": "code",
   "execution_count": 32,
   "metadata": {},
   "outputs": [],
   "source": [
    "for i in units:\n",
    "    base = '''\n",
    "        var myLatlng'''+i+''' = {\n",
    "        lat:'''+ str(params['coordinates']['lat'])+''',\n",
    "        lng:'''+ str(params['coordinates']['lng'])+'''\n",
    "    };\n",
    "        var marker'''+i+''' = new google.maps.Marker({\n",
    "        position: myLatlng'''+i+''',\n",
    "        map,\n",
    "        title:\"'''+i+'''\",\n",
    "        icon: mapicon,\n",
    "    });\n",
    "    marker'''+i+'''.addListener(\"click\",()=>{\n",
    "        document.getElementById(\"unitName\").innerHTML=marker'''+i+'''.title;\n",
    "        document.getElementById(\"SOC\").innerHTML=\"<p>Battery SOC</p>\"+parseFloat('''+str(params['batteries']['SOC'])+''').toFixed(2)+\"%\";\n",
    "        document.getElementById(\"IVTS\").innerHTML=\"<p>Battery Voltage</p>\"+'''+str(params['IVTS']['batteryVoltage'])+'''+\"V\";\n",
    "        document.getElementById(\"COORD\").innerHTML=\"<p>Unit coordinates</p>\"+marker'''+i+'''.getPosition();\n",
    "        map.panTo(marker'''+i+'''.getPosition());\n",
    "        map.setZoom(11);\n",
    "        openNav();\n",
    "\n",
    "    });'''\n",
    "    markers.append(base)\n",
    "for i in range(len(markers)):\n",
    "    markers[i]=markers[i].replace('\\n',\"\")\n",
    "    \n",
    "    "
   ]
  },
  {
   "cell_type": "code",
   "execution_count": null,
   "metadata": {},
   "outputs": [],
   "source": [
    "markers"
   ]
  },
  {
   "cell_type": "code",
   "execution_count": null,
   "metadata": {},
   "outputs": [],
   "source": []
  }
 ],
 "metadata": {
  "kernelspec": {
   "display_name": "Python 3.9.13 ('env': venv)",
   "language": "python",
   "name": "python3"
  },
  "language_info": {
   "codemirror_mode": {
    "name": "ipython",
    "version": 3
   },
   "file_extension": ".py",
   "mimetype": "text/x-python",
   "name": "python",
   "nbconvert_exporter": "python",
   "pygments_lexer": "ipython3",
   "version": "3.9.13"
  },
  "orig_nbformat": 4,
  "vscode": {
   "interpreter": {
    "hash": "ea7560987942d43ae33de82ee1baa8d903a10eabd79e05c85ccf0e83a4cc7d60"
   }
  }
 },
 "nbformat": 4,
 "nbformat_minor": 2
}
